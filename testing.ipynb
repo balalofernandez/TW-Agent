{
 "cells": [
  {
   "cell_type": "code",
   "execution_count": 5,
   "id": "initial_id",
   "metadata": {
    "collapsed": true,
    "ExecuteTime": {
     "end_time": "2024-02-11T12:24:10.324013500Z",
     "start_time": "2024-02-11T12:24:09.495108500Z"
    }
   },
   "outputs": [
    {
     "name": "stdout",
     "output_type": "stream",
     "text": [
      "dict_keys(['timber', 'clay', 'iron', 'watchtower', 'wall', 'hiding_place', 'warehouse', 'farm', 'market', 'statue', 'rally_point', 'smithy', 'academy', 'first_church', 'church', 'workshop', 'stable', 'barracks', 'headquarters'])\n"
     ]
    },
    {
     "data": {
      "text/plain": "    level   wood   clay   iron workers/total  time_factor\n25     26  29074  34741  22613     37 /  253         0.28\n26     27  36633  44295  28493     43 /  296         0.27\n27     28  46158  56476  35901     51 /  347         0.26\n28     29  58159  72007  45235     59 /  406         0.24\n29     30  73280  91809  56996     69 /  475         0.23",
      "text/html": "<div>\n<style scoped>\n    .dataframe tbody tr th:only-of-type {\n        vertical-align: middle;\n    }\n\n    .dataframe tbody tr th {\n        vertical-align: top;\n    }\n\n    .dataframe thead th {\n        text-align: right;\n    }\n</style>\n<table border=\"1\" class=\"dataframe\">\n  <thead>\n    <tr style=\"text-align: right;\">\n      <th></th>\n      <th>level</th>\n      <th>wood</th>\n      <th>clay</th>\n      <th>iron</th>\n      <th>workers/total</th>\n      <th>time_factor</th>\n    </tr>\n  </thead>\n  <tbody>\n    <tr>\n      <th>25</th>\n      <td>26</td>\n      <td>29074</td>\n      <td>34741</td>\n      <td>22613</td>\n      <td>37 /  253</td>\n      <td>0.28</td>\n    </tr>\n    <tr>\n      <th>26</th>\n      <td>27</td>\n      <td>36633</td>\n      <td>44295</td>\n      <td>28493</td>\n      <td>43 /  296</td>\n      <td>0.27</td>\n    </tr>\n    <tr>\n      <th>27</th>\n      <td>28</td>\n      <td>46158</td>\n      <td>56476</td>\n      <td>35901</td>\n      <td>51 /  347</td>\n      <td>0.26</td>\n    </tr>\n    <tr>\n      <th>28</th>\n      <td>29</td>\n      <td>58159</td>\n      <td>72007</td>\n      <td>45235</td>\n      <td>59 /  406</td>\n      <td>0.24</td>\n    </tr>\n    <tr>\n      <th>29</th>\n      <td>30</td>\n      <td>73280</td>\n      <td>91809</td>\n      <td>56996</td>\n      <td>69 /  475</td>\n      <td>0.23</td>\n    </tr>\n  </tbody>\n</table>\n</div>"
     },
     "execution_count": 5,
     "metadata": {},
     "output_type": "execute_result"
    }
   ],
   "source": [
    "import pandas as pd\n",
    "#Modify excel and convert to csv\n",
    "excel_file = 'Game/Buildings/building_requirements/all_buildings.xlsx'\n",
    "sheets_dict = pd.read_excel(excel_file, sheet_name=None)\n",
    "\"\"\"for sheet_name, df in sheets_dict.items():\n",
    "    csv_file_name = f\"Game/Buildings/building_requirements/{sheet_name}.csv\" \n",
    "    df.to_csv(csv_file_name, index=False)\"\"\"\n",
    "print(sheets_dict.keys())\n",
    "table = pd.read_csv('Game/Buildings/building_requirements/headquarters.csv')\n",
    "table.tail(5)#table[table['level'] == 1].iloc[0].to_dict()\n",
    "#table['level'].to_list()"
   ]
  },
  {
   "cell_type": "code",
   "execution_count": 14,
   "id": "463f296eefd2c0df",
   "metadata": {
    "collapsed": false,
    "ExecuteTime": {
     "end_time": "2024-02-11T12:25:18.510987400Z",
     "start_time": "2024-02-11T12:25:18.458905700Z"
    }
   },
   "outputs": [
    {
     "data": {
      "text/plain": "    level  headquarters  barracks  stable  garage  church  first_church  \\\n0     1.0          10.0      16.0    20.0    24.0    10.0          10.0   \n1     2.0           2.0       3.0     4.0     5.0     2.0           NaN   \n2     3.0           2.0       4.0     5.0     6.0     2.0           NaN   \n3     4.0           3.0       5.0     6.0     6.0     NaN           NaN   \n4     5.0           4.0       5.0     6.0     9.0     NaN           NaN   \n5     6.0           4.0       7.0     9.0    10.0     NaN           NaN   \n6     7.0           5.0       8.0    10.0    12.0     NaN           NaN   \n7     8.0           6.0       9.0    12.0    14.0     NaN           NaN   \n8     9.0           7.0      12.0    14.0    17.0     NaN           NaN   \n9    10.0           9.0      14.0    17.0    21.0     NaN           NaN   \n10   11.0          10.0      16.0    21.0    25.0     NaN           NaN   \n11   12.0          12.0      20.0    25.0    29.0     NaN           NaN   \n12   13.0          15.0      24.0    29.0    36.0     NaN           NaN   \n13   14.0          18.0      28.0    36.0    43.0     NaN           NaN   \n14   15.0          21.0      34.0    43.0    51.0     NaN           NaN   \n15   16.0          26.0      42.0    51.0     NaN     NaN           NaN   \n16   17.0          31.0      49.0    62.0     NaN     NaN           NaN   \n17   18.0          37.0      59.0    74.0     NaN     NaN           NaN   \n18   19.0          44.0      71.0    88.0     NaN     NaN           NaN   \n19   20.0          53.0      85.0   107.0     NaN     NaN           NaN   \n20   21.0          64.0     102.0     NaN     NaN     NaN           NaN   \n21   22.0          77.0     123.0     NaN     NaN     NaN           NaN   \n22   23.0          92.0     147.0     NaN     NaN     NaN           NaN   \n23   24.0         110.0     177.0     NaN     NaN     NaN           NaN   \n24   25.0         133.0     212.0     NaN     NaN     NaN           NaN   \n25   26.0         159.0       NaN     NaN     NaN     NaN           NaN   \n26   27.0         191.0       NaN     NaN     NaN     NaN           NaN   \n27   28.0         229.0       NaN     NaN     NaN     NaN           NaN   \n28   29.0         274.0       NaN     NaN     NaN     NaN           NaN   \n29   30.0         330.0       NaN     NaN     NaN     NaN           NaN   \n\n    watch_tower  academy  smithy  place  statue  market  timber   clay   iron  \\\n0          42.0    512.0    19.0    0.0    24.0    10.0     6.0    6.0    6.0   \n1           8.0      NaN     4.0    NaN     NaN     2.0     1.0    1.0    1.0   \n2          10.0      NaN     4.0    NaN     NaN     2.0     2.0    2.0    2.0   \n3          13.0      NaN     6.0    NaN     NaN     3.0     1.0    1.0    1.0   \n4          14.0      NaN     6.0    NaN     NaN     4.0     2.0    2.0    2.0   \n5          18.0      NaN     8.0    NaN     NaN     4.0     3.0    3.0    3.0   \n6          20.0      NaN    10.0    NaN     NaN     5.0     3.0    3.0    3.0   \n7          25.0      NaN    11.0    NaN     NaN     6.0     3.0    3.0    3.0   \n8          31.0      NaN    14.0    NaN     NaN     7.0     5.0    5.0    5.0   \n9          36.0      NaN    16.0    NaN     NaN     9.0     5.0    5.0    5.0   \n10         43.0      NaN    20.0    NaN     NaN    10.0     6.0    6.0    6.0   \n11         52.0      NaN    23.0    NaN     NaN    12.0     8.0    8.0    8.0   \n12         62.0      NaN    28.0    NaN     NaN    15.0     8.0    8.0    8.0   \n13         75.0      NaN    34.0    NaN     NaN    18.0    11.0   11.0   11.0   \n14         90.0      NaN    41.0    NaN     NaN    21.0    13.0   13.0   13.0   \n15        108.0      NaN    49.0    NaN     NaN    26.0    15.0   15.0   15.0   \n16        130.0      NaN    58.0    NaN     NaN    31.0    19.0   19.0   19.0   \n17        155.0      NaN    71.0    NaN     NaN    37.0    22.0   22.0   22.0   \n18        186.0      NaN    84.0    NaN     NaN    44.0    27.0   27.0   27.0   \n19        224.0      NaN   101.0    NaN     NaN    53.0    32.0   32.0   32.0   \n20          NaN      NaN     NaN    NaN     NaN    64.0    38.0   38.0   38.0   \n21          NaN      NaN     NaN    NaN     NaN    77.0    46.0   46.0   46.0   \n22          NaN      NaN     NaN    NaN     NaN    92.0    55.0   55.0   55.0   \n23          NaN      NaN     NaN    NaN     NaN   110.0    66.0   66.0   66.0   \n24          NaN      NaN     NaN    NaN     NaN   133.0    80.0   80.0   80.0   \n25          NaN      NaN     NaN    NaN     NaN     NaN    95.0   95.0   95.0   \n26          NaN      NaN     NaN    NaN     NaN     NaN   115.0  115.0  115.0   \n27          NaN      NaN     NaN    NaN     NaN     NaN   137.0  137.0  137.0   \n28          NaN      NaN     NaN    NaN     NaN     NaN   165.0  165.0  165.0   \n29          NaN      NaN     NaN    NaN     NaN     NaN   198.0  198.0  198.0   \n\n     farm  warehouse  hiding_place  wall  \n0     5.0        6.0           5.0   8.0  \n1     1.0        1.0           1.0   2.0  \n2     1.0        2.0           1.0   2.0  \n3     2.0        1.0           2.0   2.0  \n4     1.0        2.0           1.0   3.0  \n5     2.0        3.0           2.0   3.0  \n6     3.0        3.0           3.0   4.0  \n7     3.0        3.0           3.0   5.0  \n8     3.0        5.0           3.0   5.0  \n9     5.0        5.0           5.0   7.0  \n10    5.0        6.0           NaN   9.0  \n11    6.0        8.0           NaN   9.0  \n12    8.0        8.0           NaN  12.0  \n13    8.0       11.0           NaN  15.0  \n14   11.0       13.0           NaN  17.0  \n15   13.0       15.0           NaN  20.0  \n16   15.0       19.0           NaN  25.0  \n17   19.0       22.0           NaN  29.0  \n18   22.0       27.0           NaN  36.0  \n19   27.0       32.0           NaN  43.0  \n20   32.0       38.0           NaN   NaN  \n21   38.0       46.0           NaN   NaN  \n22   46.0       55.0           NaN   NaN  \n23   55.0       66.0           NaN   NaN  \n24   66.0       80.0           NaN   NaN  \n25   80.0       95.0           NaN   NaN  \n26   95.0      115.0           NaN   NaN  \n27  115.0      137.0           NaN   NaN  \n28  137.0      165.0           NaN   NaN  \n29  165.0      198.0           NaN   NaN  ",
      "text/html": "<div>\n<style scoped>\n    .dataframe tbody tr th:only-of-type {\n        vertical-align: middle;\n    }\n\n    .dataframe tbody tr th {\n        vertical-align: top;\n    }\n\n    .dataframe thead th {\n        text-align: right;\n    }\n</style>\n<table border=\"1\" class=\"dataframe\">\n  <thead>\n    <tr style=\"text-align: right;\">\n      <th></th>\n      <th>level</th>\n      <th>headquarters</th>\n      <th>barracks</th>\n      <th>stable</th>\n      <th>garage</th>\n      <th>church</th>\n      <th>first_church</th>\n      <th>watch_tower</th>\n      <th>academy</th>\n      <th>smithy</th>\n      <th>place</th>\n      <th>statue</th>\n      <th>market</th>\n      <th>timber</th>\n      <th>clay</th>\n      <th>iron</th>\n      <th>farm</th>\n      <th>warehouse</th>\n      <th>hiding_place</th>\n      <th>wall</th>\n    </tr>\n  </thead>\n  <tbody>\n    <tr>\n      <th>0</th>\n      <td>1.0</td>\n      <td>10.0</td>\n      <td>16.0</td>\n      <td>20.0</td>\n      <td>24.0</td>\n      <td>10.0</td>\n      <td>10.0</td>\n      <td>42.0</td>\n      <td>512.0</td>\n      <td>19.0</td>\n      <td>0.0</td>\n      <td>24.0</td>\n      <td>10.0</td>\n      <td>6.0</td>\n      <td>6.0</td>\n      <td>6.0</td>\n      <td>5.0</td>\n      <td>6.0</td>\n      <td>5.0</td>\n      <td>8.0</td>\n    </tr>\n    <tr>\n      <th>1</th>\n      <td>2.0</td>\n      <td>2.0</td>\n      <td>3.0</td>\n      <td>4.0</td>\n      <td>5.0</td>\n      <td>2.0</td>\n      <td>NaN</td>\n      <td>8.0</td>\n      <td>NaN</td>\n      <td>4.0</td>\n      <td>NaN</td>\n      <td>NaN</td>\n      <td>2.0</td>\n      <td>1.0</td>\n      <td>1.0</td>\n      <td>1.0</td>\n      <td>1.0</td>\n      <td>1.0</td>\n      <td>1.0</td>\n      <td>2.0</td>\n    </tr>\n    <tr>\n      <th>2</th>\n      <td>3.0</td>\n      <td>2.0</td>\n      <td>4.0</td>\n      <td>5.0</td>\n      <td>6.0</td>\n      <td>2.0</td>\n      <td>NaN</td>\n      <td>10.0</td>\n      <td>NaN</td>\n      <td>4.0</td>\n      <td>NaN</td>\n      <td>NaN</td>\n      <td>2.0</td>\n      <td>2.0</td>\n      <td>2.0</td>\n      <td>2.0</td>\n      <td>1.0</td>\n      <td>2.0</td>\n      <td>1.0</td>\n      <td>2.0</td>\n    </tr>\n    <tr>\n      <th>3</th>\n      <td>4.0</td>\n      <td>3.0</td>\n      <td>5.0</td>\n      <td>6.0</td>\n      <td>6.0</td>\n      <td>NaN</td>\n      <td>NaN</td>\n      <td>13.0</td>\n      <td>NaN</td>\n      <td>6.0</td>\n      <td>NaN</td>\n      <td>NaN</td>\n      <td>3.0</td>\n      <td>1.0</td>\n      <td>1.0</td>\n      <td>1.0</td>\n      <td>2.0</td>\n      <td>1.0</td>\n      <td>2.0</td>\n      <td>2.0</td>\n    </tr>\n    <tr>\n      <th>4</th>\n      <td>5.0</td>\n      <td>4.0</td>\n      <td>5.0</td>\n      <td>6.0</td>\n      <td>9.0</td>\n      <td>NaN</td>\n      <td>NaN</td>\n      <td>14.0</td>\n      <td>NaN</td>\n      <td>6.0</td>\n      <td>NaN</td>\n      <td>NaN</td>\n      <td>4.0</td>\n      <td>2.0</td>\n      <td>2.0</td>\n      <td>2.0</td>\n      <td>1.0</td>\n      <td>2.0</td>\n      <td>1.0</td>\n      <td>3.0</td>\n    </tr>\n    <tr>\n      <th>5</th>\n      <td>6.0</td>\n      <td>4.0</td>\n      <td>7.0</td>\n      <td>9.0</td>\n      <td>10.0</td>\n      <td>NaN</td>\n      <td>NaN</td>\n      <td>18.0</td>\n      <td>NaN</td>\n      <td>8.0</td>\n      <td>NaN</td>\n      <td>NaN</td>\n      <td>4.0</td>\n      <td>3.0</td>\n      <td>3.0</td>\n      <td>3.0</td>\n      <td>2.0</td>\n      <td>3.0</td>\n      <td>2.0</td>\n      <td>3.0</td>\n    </tr>\n    <tr>\n      <th>6</th>\n      <td>7.0</td>\n      <td>5.0</td>\n      <td>8.0</td>\n      <td>10.0</td>\n      <td>12.0</td>\n      <td>NaN</td>\n      <td>NaN</td>\n      <td>20.0</td>\n      <td>NaN</td>\n      <td>10.0</td>\n      <td>NaN</td>\n      <td>NaN</td>\n      <td>5.0</td>\n      <td>3.0</td>\n      <td>3.0</td>\n      <td>3.0</td>\n      <td>3.0</td>\n      <td>3.0</td>\n      <td>3.0</td>\n      <td>4.0</td>\n    </tr>\n    <tr>\n      <th>7</th>\n      <td>8.0</td>\n      <td>6.0</td>\n      <td>9.0</td>\n      <td>12.0</td>\n      <td>14.0</td>\n      <td>NaN</td>\n      <td>NaN</td>\n      <td>25.0</td>\n      <td>NaN</td>\n      <td>11.0</td>\n      <td>NaN</td>\n      <td>NaN</td>\n      <td>6.0</td>\n      <td>3.0</td>\n      <td>3.0</td>\n      <td>3.0</td>\n      <td>3.0</td>\n      <td>3.0</td>\n      <td>3.0</td>\n      <td>5.0</td>\n    </tr>\n    <tr>\n      <th>8</th>\n      <td>9.0</td>\n      <td>7.0</td>\n      <td>12.0</td>\n      <td>14.0</td>\n      <td>17.0</td>\n      <td>NaN</td>\n      <td>NaN</td>\n      <td>31.0</td>\n      <td>NaN</td>\n      <td>14.0</td>\n      <td>NaN</td>\n      <td>NaN</td>\n      <td>7.0</td>\n      <td>5.0</td>\n      <td>5.0</td>\n      <td>5.0</td>\n      <td>3.0</td>\n      <td>5.0</td>\n      <td>3.0</td>\n      <td>5.0</td>\n    </tr>\n    <tr>\n      <th>9</th>\n      <td>10.0</td>\n      <td>9.0</td>\n      <td>14.0</td>\n      <td>17.0</td>\n      <td>21.0</td>\n      <td>NaN</td>\n      <td>NaN</td>\n      <td>36.0</td>\n      <td>NaN</td>\n      <td>16.0</td>\n      <td>NaN</td>\n      <td>NaN</td>\n      <td>9.0</td>\n      <td>5.0</td>\n      <td>5.0</td>\n      <td>5.0</td>\n      <td>5.0</td>\n      <td>5.0</td>\n      <td>5.0</td>\n      <td>7.0</td>\n    </tr>\n    <tr>\n      <th>10</th>\n      <td>11.0</td>\n      <td>10.0</td>\n      <td>16.0</td>\n      <td>21.0</td>\n      <td>25.0</td>\n      <td>NaN</td>\n      <td>NaN</td>\n      <td>43.0</td>\n      <td>NaN</td>\n      <td>20.0</td>\n      <td>NaN</td>\n      <td>NaN</td>\n      <td>10.0</td>\n      <td>6.0</td>\n      <td>6.0</td>\n      <td>6.0</td>\n      <td>5.0</td>\n      <td>6.0</td>\n      <td>NaN</td>\n      <td>9.0</td>\n    </tr>\n    <tr>\n      <th>11</th>\n      <td>12.0</td>\n      <td>12.0</td>\n      <td>20.0</td>\n      <td>25.0</td>\n      <td>29.0</td>\n      <td>NaN</td>\n      <td>NaN</td>\n      <td>52.0</td>\n      <td>NaN</td>\n      <td>23.0</td>\n      <td>NaN</td>\n      <td>NaN</td>\n      <td>12.0</td>\n      <td>8.0</td>\n      <td>8.0</td>\n      <td>8.0</td>\n      <td>6.0</td>\n      <td>8.0</td>\n      <td>NaN</td>\n      <td>9.0</td>\n    </tr>\n    <tr>\n      <th>12</th>\n      <td>13.0</td>\n      <td>15.0</td>\n      <td>24.0</td>\n      <td>29.0</td>\n      <td>36.0</td>\n      <td>NaN</td>\n      <td>NaN</td>\n      <td>62.0</td>\n      <td>NaN</td>\n      <td>28.0</td>\n      <td>NaN</td>\n      <td>NaN</td>\n      <td>15.0</td>\n      <td>8.0</td>\n      <td>8.0</td>\n      <td>8.0</td>\n      <td>8.0</td>\n      <td>8.0</td>\n      <td>NaN</td>\n      <td>12.0</td>\n    </tr>\n    <tr>\n      <th>13</th>\n      <td>14.0</td>\n      <td>18.0</td>\n      <td>28.0</td>\n      <td>36.0</td>\n      <td>43.0</td>\n      <td>NaN</td>\n      <td>NaN</td>\n      <td>75.0</td>\n      <td>NaN</td>\n      <td>34.0</td>\n      <td>NaN</td>\n      <td>NaN</td>\n      <td>18.0</td>\n      <td>11.0</td>\n      <td>11.0</td>\n      <td>11.0</td>\n      <td>8.0</td>\n      <td>11.0</td>\n      <td>NaN</td>\n      <td>15.0</td>\n    </tr>\n    <tr>\n      <th>14</th>\n      <td>15.0</td>\n      <td>21.0</td>\n      <td>34.0</td>\n      <td>43.0</td>\n      <td>51.0</td>\n      <td>NaN</td>\n      <td>NaN</td>\n      <td>90.0</td>\n      <td>NaN</td>\n      <td>41.0</td>\n      <td>NaN</td>\n      <td>NaN</td>\n      <td>21.0</td>\n      <td>13.0</td>\n      <td>13.0</td>\n      <td>13.0</td>\n      <td>11.0</td>\n      <td>13.0</td>\n      <td>NaN</td>\n      <td>17.0</td>\n    </tr>\n    <tr>\n      <th>15</th>\n      <td>16.0</td>\n      <td>26.0</td>\n      <td>42.0</td>\n      <td>51.0</td>\n      <td>NaN</td>\n      <td>NaN</td>\n      <td>NaN</td>\n      <td>108.0</td>\n      <td>NaN</td>\n      <td>49.0</td>\n      <td>NaN</td>\n      <td>NaN</td>\n      <td>26.0</td>\n      <td>15.0</td>\n      <td>15.0</td>\n      <td>15.0</td>\n      <td>13.0</td>\n      <td>15.0</td>\n      <td>NaN</td>\n      <td>20.0</td>\n    </tr>\n    <tr>\n      <th>16</th>\n      <td>17.0</td>\n      <td>31.0</td>\n      <td>49.0</td>\n      <td>62.0</td>\n      <td>NaN</td>\n      <td>NaN</td>\n      <td>NaN</td>\n      <td>130.0</td>\n      <td>NaN</td>\n      <td>58.0</td>\n      <td>NaN</td>\n      <td>NaN</td>\n      <td>31.0</td>\n      <td>19.0</td>\n      <td>19.0</td>\n      <td>19.0</td>\n      <td>15.0</td>\n      <td>19.0</td>\n      <td>NaN</td>\n      <td>25.0</td>\n    </tr>\n    <tr>\n      <th>17</th>\n      <td>18.0</td>\n      <td>37.0</td>\n      <td>59.0</td>\n      <td>74.0</td>\n      <td>NaN</td>\n      <td>NaN</td>\n      <td>NaN</td>\n      <td>155.0</td>\n      <td>NaN</td>\n      <td>71.0</td>\n      <td>NaN</td>\n      <td>NaN</td>\n      <td>37.0</td>\n      <td>22.0</td>\n      <td>22.0</td>\n      <td>22.0</td>\n      <td>19.0</td>\n      <td>22.0</td>\n      <td>NaN</td>\n      <td>29.0</td>\n    </tr>\n    <tr>\n      <th>18</th>\n      <td>19.0</td>\n      <td>44.0</td>\n      <td>71.0</td>\n      <td>88.0</td>\n      <td>NaN</td>\n      <td>NaN</td>\n      <td>NaN</td>\n      <td>186.0</td>\n      <td>NaN</td>\n      <td>84.0</td>\n      <td>NaN</td>\n      <td>NaN</td>\n      <td>44.0</td>\n      <td>27.0</td>\n      <td>27.0</td>\n      <td>27.0</td>\n      <td>22.0</td>\n      <td>27.0</td>\n      <td>NaN</td>\n      <td>36.0</td>\n    </tr>\n    <tr>\n      <th>19</th>\n      <td>20.0</td>\n      <td>53.0</td>\n      <td>85.0</td>\n      <td>107.0</td>\n      <td>NaN</td>\n      <td>NaN</td>\n      <td>NaN</td>\n      <td>224.0</td>\n      <td>NaN</td>\n      <td>101.0</td>\n      <td>NaN</td>\n      <td>NaN</td>\n      <td>53.0</td>\n      <td>32.0</td>\n      <td>32.0</td>\n      <td>32.0</td>\n      <td>27.0</td>\n      <td>32.0</td>\n      <td>NaN</td>\n      <td>43.0</td>\n    </tr>\n    <tr>\n      <th>20</th>\n      <td>21.0</td>\n      <td>64.0</td>\n      <td>102.0</td>\n      <td>NaN</td>\n      <td>NaN</td>\n      <td>NaN</td>\n      <td>NaN</td>\n      <td>NaN</td>\n      <td>NaN</td>\n      <td>NaN</td>\n      <td>NaN</td>\n      <td>NaN</td>\n      <td>64.0</td>\n      <td>38.0</td>\n      <td>38.0</td>\n      <td>38.0</td>\n      <td>32.0</td>\n      <td>38.0</td>\n      <td>NaN</td>\n      <td>NaN</td>\n    </tr>\n    <tr>\n      <th>21</th>\n      <td>22.0</td>\n      <td>77.0</td>\n      <td>123.0</td>\n      <td>NaN</td>\n      <td>NaN</td>\n      <td>NaN</td>\n      <td>NaN</td>\n      <td>NaN</td>\n      <td>NaN</td>\n      <td>NaN</td>\n      <td>NaN</td>\n      <td>NaN</td>\n      <td>77.0</td>\n      <td>46.0</td>\n      <td>46.0</td>\n      <td>46.0</td>\n      <td>38.0</td>\n      <td>46.0</td>\n      <td>NaN</td>\n      <td>NaN</td>\n    </tr>\n    <tr>\n      <th>22</th>\n      <td>23.0</td>\n      <td>92.0</td>\n      <td>147.0</td>\n      <td>NaN</td>\n      <td>NaN</td>\n      <td>NaN</td>\n      <td>NaN</td>\n      <td>NaN</td>\n      <td>NaN</td>\n      <td>NaN</td>\n      <td>NaN</td>\n      <td>NaN</td>\n      <td>92.0</td>\n      <td>55.0</td>\n      <td>55.0</td>\n      <td>55.0</td>\n      <td>46.0</td>\n      <td>55.0</td>\n      <td>NaN</td>\n      <td>NaN</td>\n    </tr>\n    <tr>\n      <th>23</th>\n      <td>24.0</td>\n      <td>110.0</td>\n      <td>177.0</td>\n      <td>NaN</td>\n      <td>NaN</td>\n      <td>NaN</td>\n      <td>NaN</td>\n      <td>NaN</td>\n      <td>NaN</td>\n      <td>NaN</td>\n      <td>NaN</td>\n      <td>NaN</td>\n      <td>110.0</td>\n      <td>66.0</td>\n      <td>66.0</td>\n      <td>66.0</td>\n      <td>55.0</td>\n      <td>66.0</td>\n      <td>NaN</td>\n      <td>NaN</td>\n    </tr>\n    <tr>\n      <th>24</th>\n      <td>25.0</td>\n      <td>133.0</td>\n      <td>212.0</td>\n      <td>NaN</td>\n      <td>NaN</td>\n      <td>NaN</td>\n      <td>NaN</td>\n      <td>NaN</td>\n      <td>NaN</td>\n      <td>NaN</td>\n      <td>NaN</td>\n      <td>NaN</td>\n      <td>133.0</td>\n      <td>80.0</td>\n      <td>80.0</td>\n      <td>80.0</td>\n      <td>66.0</td>\n      <td>80.0</td>\n      <td>NaN</td>\n      <td>NaN</td>\n    </tr>\n    <tr>\n      <th>25</th>\n      <td>26.0</td>\n      <td>159.0</td>\n      <td>NaN</td>\n      <td>NaN</td>\n      <td>NaN</td>\n      <td>NaN</td>\n      <td>NaN</td>\n      <td>NaN</td>\n      <td>NaN</td>\n      <td>NaN</td>\n      <td>NaN</td>\n      <td>NaN</td>\n      <td>NaN</td>\n      <td>95.0</td>\n      <td>95.0</td>\n      <td>95.0</td>\n      <td>80.0</td>\n      <td>95.0</td>\n      <td>NaN</td>\n      <td>NaN</td>\n    </tr>\n    <tr>\n      <th>26</th>\n      <td>27.0</td>\n      <td>191.0</td>\n      <td>NaN</td>\n      <td>NaN</td>\n      <td>NaN</td>\n      <td>NaN</td>\n      <td>NaN</td>\n      <td>NaN</td>\n      <td>NaN</td>\n      <td>NaN</td>\n      <td>NaN</td>\n      <td>NaN</td>\n      <td>NaN</td>\n      <td>115.0</td>\n      <td>115.0</td>\n      <td>115.0</td>\n      <td>95.0</td>\n      <td>115.0</td>\n      <td>NaN</td>\n      <td>NaN</td>\n    </tr>\n    <tr>\n      <th>27</th>\n      <td>28.0</td>\n      <td>229.0</td>\n      <td>NaN</td>\n      <td>NaN</td>\n      <td>NaN</td>\n      <td>NaN</td>\n      <td>NaN</td>\n      <td>NaN</td>\n      <td>NaN</td>\n      <td>NaN</td>\n      <td>NaN</td>\n      <td>NaN</td>\n      <td>NaN</td>\n      <td>137.0</td>\n      <td>137.0</td>\n      <td>137.0</td>\n      <td>115.0</td>\n      <td>137.0</td>\n      <td>NaN</td>\n      <td>NaN</td>\n    </tr>\n    <tr>\n      <th>28</th>\n      <td>29.0</td>\n      <td>274.0</td>\n      <td>NaN</td>\n      <td>NaN</td>\n      <td>NaN</td>\n      <td>NaN</td>\n      <td>NaN</td>\n      <td>NaN</td>\n      <td>NaN</td>\n      <td>NaN</td>\n      <td>NaN</td>\n      <td>NaN</td>\n      <td>NaN</td>\n      <td>165.0</td>\n      <td>165.0</td>\n      <td>165.0</td>\n      <td>137.0</td>\n      <td>165.0</td>\n      <td>NaN</td>\n      <td>NaN</td>\n    </tr>\n    <tr>\n      <th>29</th>\n      <td>30.0</td>\n      <td>330.0</td>\n      <td>NaN</td>\n      <td>NaN</td>\n      <td>NaN</td>\n      <td>NaN</td>\n      <td>NaN</td>\n      <td>NaN</td>\n      <td>NaN</td>\n      <td>NaN</td>\n      <td>NaN</td>\n      <td>NaN</td>\n      <td>NaN</td>\n      <td>198.0</td>\n      <td>198.0</td>\n      <td>198.0</td>\n      <td>165.0</td>\n      <td>198.0</td>\n      <td>NaN</td>\n      <td>NaN</td>\n    </tr>\n  </tbody>\n</table>\n</div>"
     },
     "execution_count": 14,
     "metadata": {},
     "output_type": "execute_result"
    }
   ],
   "source": [
    "table = pd.read_csv(f\"Game/Points/points.csv\")\n",
    "table = table.astype(float)\n",
    "table"
   ]
  },
  {
   "cell_type": "code",
   "execution_count": 7,
   "id": "1908b4991b77ce00",
   "metadata": {
    "collapsed": false,
    "ExecuteTime": {
     "end_time": "2024-02-11T12:24:10.394509500Z",
     "start_time": "2024-02-11T12:24:10.356179500Z"
    }
   },
   "outputs": [
    {
     "data": {
      "text/plain": "'excel_file = \\'Game/Buildings/building_requirements/all_buildings.xlsx\\'\\nsheets_dict = pd.read_excel(excel_file, sheet_name=None)\\nfor sheet_name, df in sheets_dict.items():\\n    capitalized_sheet_name = sheet_name.capitalize()\\n    python_file_name = f\"Game/Buildings/{capitalized_sheet_name}.py\"  # Creates a Python file name with the capitalized sheet name\\n    with open(python_file_name, \\'w\\') as file:\\n        file.write(\"from ..Building import Building\\n\"            f\"class {capitalized_sheet_name}(Building):\\n\"                \"\\tdef __init__(self,level=0):\\n\"                    f\"\\t\\tself.name = \\'{sheet_name}\\'\\n\"                    \"\\t\\tself.level=level\\n\"                    \"\\t\\tself.upgrade_requirements = super().read_requirements(level+1)\\n\"                    \"\\t\\tsuper().__init__(self.name,self.level,self.upgrade_requirements)\\n\")'"
     },
     "execution_count": 7,
     "metadata": {},
     "output_type": "execute_result"
    }
   ],
   "source": [
    "\"\"\"excel_file = 'Game/Buildings/building_requirements/all_buildings.xlsx'\n",
    "sheets_dict = pd.read_excel(excel_file, sheet_name=None)\n",
    "for sheet_name, df in sheets_dict.items():\n",
    "    capitalized_sheet_name = sheet_name.capitalize()\n",
    "    python_file_name = f\"Game/Buildings/{capitalized_sheet_name}.py\"  # Creates a Python file name with the capitalized sheet name\n",
    "    with open(python_file_name, 'w') as file:\n",
    "        file.write(\"from ..Building import Building\\n\"\\\n",
    "            f\"class {capitalized_sheet_name}(Building):\\n\"\\\n",
    "                \"\\tdef __init__(self,level=0):\\n\"\\\n",
    "                    f\"\\t\\tself.name = '{sheet_name}'\\n\"\\\n",
    "                    \"\\t\\tself.level=level\\n\"\\\n",
    "                    \"\\t\\tself.upgrade_requirements = super().read_requirements(level+1)\\n\"\\\n",
    "                    \"\\t\\tsuper().__init__(self.name,self.level,self.upgrade_requirements)\\n\")\"\"\""
   ]
  },
  {
   "cell_type": "code",
   "execution_count": 1,
   "id": "6237e46bbb6f4b22",
   "metadata": {
    "collapsed": false,
    "ExecuteTime": {
     "end_time": "2024-02-12T15:05:36.580775900Z",
     "start_time": "2024-02-12T15:05:35.595742900Z"
    }
   },
   "outputs": [],
   "source": [
    "import numpy as np\n",
    "import matplotlib.pyplot as plt\n",
    "record = np.load(\"./stats/Action_record_484c.npy\")\n",
    "\n"
   ]
  }
 ],
 "metadata": {
  "kernelspec": {
   "display_name": "Python 3",
   "language": "python",
   "name": "python3"
  },
  "language_info": {
   "codemirror_mode": {
    "name": "ipython",
    "version": 3
   },
   "file_extension": ".py",
   "mimetype": "text/x-python",
   "name": "python",
   "nbconvert_exporter": "python",
   "pygments_lexer": "ipython3",
   "version": "3.8.18"
  }
 },
 "nbformat": 4,
 "nbformat_minor": 5
}
