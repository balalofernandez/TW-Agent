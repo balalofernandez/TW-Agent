{
 "cells": [
  {
   "cell_type": "code",
   "execution_count": 1,
   "id": "initial_id",
   "metadata": {
    "collapsed": true,
    "ExecuteTime": {
     "end_time": "2024-02-10T17:20:57.898709800Z",
     "start_time": "2024-02-10T17:20:57.204906300Z"
    }
   },
   "outputs": [
    {
     "name": "stdout",
     "output_type": "stream",
     "text": [
      "dict_keys(['timber', 'clay', 'iron', 'watchtower', 'wall', 'hiding_place', 'warehouse', 'farm', 'market', 'statue', 'rally_point', 'smithy', 'academy', 'first_church', 'church', 'workshop', 'stable', 'barracks', 'headquarters'])\n"
     ]
    },
    {
     "data": {
      "text/plain": "{'level': 1, 'wood': 160, 'clay': 200, 'iron': 50, 'workers/total': '5/5'}"
     },
     "execution_count": 1,
     "metadata": {},
     "output_type": "execute_result"
    }
   ],
   "source": [
    "import pandas as pd\n",
    "#Modify excel and convert to csv\n",
    "excel_file = 'Game/Buildings/building_requirements/all_buildings.xlsx'\n",
    "sheets_dict = pd.read_excel(excel_file, sheet_name=None)\n",
    "\"\"\"for sheet_name, df in sheets_dict.items():\n",
    "    csv_file_name = f\"Game/Buildings/building_requirements/{sheet_name}.csv\" \n",
    "    df.to_csv(csv_file_name, index=False)\"\"\"\n",
    "print(sheets_dict.keys())\n",
    "table = pd.read_csv('Game/Buildings/building_requirements/first_church.csv')\n",
    "table[table['level'] == 1].iloc[0].to_dict()\n",
    "#table['level'].to_list()"
   ]
  },
  {
   "cell_type": "code",
   "execution_count": 2,
   "outputs": [
    {
     "data": {
      "text/plain": "12"
     },
     "execution_count": 2,
     "metadata": {},
     "output_type": "execute_result"
    }
   ],
   "source": [
    "\n",
    "table = pd.read_csv(f\"Game/Points/points.csv\")\n",
    "table['headquarters'][:2].sum()"
   ],
   "metadata": {
    "collapsed": false,
    "ExecuteTime": {
     "end_time": "2024-02-10T17:20:57.938904300Z",
     "start_time": "2024-02-10T17:20:57.903957200Z"
    }
   },
   "id": "463f296eefd2c0df"
  },
  {
   "cell_type": "code",
   "execution_count": 3,
   "outputs": [
    {
     "data": {
      "text/plain": "'excel_file = \\'Game/Buildings/building_requirements/all_buildings.xlsx\\'\\nsheets_dict = pd.read_excel(excel_file, sheet_name=None)\\nfor sheet_name, df in sheets_dict.items():\\n    capitalized_sheet_name = sheet_name.capitalize()\\n    python_file_name = f\"Game/Buildings/{capitalized_sheet_name}.py\"  # Creates a Python file name with the capitalized sheet name\\n    with open(python_file_name, \\'w\\') as file:\\n        file.write(\"from ..Building import Building\\n\"            f\"class {capitalized_sheet_name}(Building):\\n\"                \"\\tdef __init__(self,level=0):\\n\"                    f\"\\t\\tself.name = \\'{sheet_name}\\'\\n\"                    \"\\t\\tself.level=level\\n\"                    \"\\t\\tself.upgrade_requirements = super().read_requirements(level+1)\\n\"                    \"\\t\\tsuper().__init__(self.name,self.level,self.upgrade_requirements)\\n\")'"
     },
     "execution_count": 3,
     "metadata": {},
     "output_type": "execute_result"
    }
   ],
   "source": [
    "\"\"\"excel_file = 'Game/Buildings/building_requirements/all_buildings.xlsx'\n",
    "sheets_dict = pd.read_excel(excel_file, sheet_name=None)\n",
    "for sheet_name, df in sheets_dict.items():\n",
    "    capitalized_sheet_name = sheet_name.capitalize()\n",
    "    python_file_name = f\"Game/Buildings/{capitalized_sheet_name}.py\"  # Creates a Python file name with the capitalized sheet name\n",
    "    with open(python_file_name, 'w') as file:\n",
    "        file.write(\"from ..Building import Building\\n\"\\\n",
    "            f\"class {capitalized_sheet_name}(Building):\\n\"\\\n",
    "                \"\\tdef __init__(self,level=0):\\n\"\\\n",
    "                    f\"\\t\\tself.name = '{sheet_name}'\\n\"\\\n",
    "                    \"\\t\\tself.level=level\\n\"\\\n",
    "                    \"\\t\\tself.upgrade_requirements = super().read_requirements(level+1)\\n\"\\\n",
    "                    \"\\t\\tsuper().__init__(self.name,self.level,self.upgrade_requirements)\\n\")\"\"\""
   ],
   "metadata": {
    "collapsed": false,
    "ExecuteTime": {
     "end_time": "2024-02-10T17:20:57.948902900Z",
     "start_time": "2024-02-10T17:20:57.929461Z"
    }
   },
   "id": "1908b4991b77ce00"
  },
  {
   "cell_type": "code",
   "execution_count": 5,
   "outputs": [],
   "source": [
    "from Game import *\n",
    "from Game.Buildings import *\n"
   ],
   "metadata": {
    "collapsed": false,
    "ExecuteTime": {
     "end_time": "2024-02-10T17:21:47.476701200Z",
     "start_time": "2024-02-10T17:21:47.458582500Z"
    }
   },
   "id": "2c89291fe269f3e8"
  },
  {
   "cell_type": "code",
   "execution_count": 8,
   "outputs": [
    {
     "data": {
      "text/plain": "[1, 1, 1, 1, 1, 1, 0, 0, 0, 0, 0, 0, 0, 0, 0, 0, 0, 0, 1]"
     },
     "execution_count": 8,
     "metadata": {},
     "output_type": "execute_result"
    }
   ],
   "source": [
    "def create_starting_village():\n",
    "    new_village = Village(name=\"village1\")\n",
    "    buildings = set()\n",
    "    buildings.add(Headquarters(level=1, village=new_village))\n",
    "    buildings.add(First_church(level=1, village=new_village))\n",
    "    buildings.add(Rally_point(level=1, village=new_village))\n",
    "    buildings.add(Farm(level=1, village=new_village))\n",
    "    buildings.add(Warehouse(level=1, village=new_village))\n",
    "    buildings.add(Hiding_place(level=1, village=new_village))\n",
    "    new_village.set_buildings(buildings)\n",
    "    return new_village\n",
    "new_village = create_starting_village()\n",
    "list(new_village.get_buildings().values())+[1]"
   ],
   "metadata": {
    "collapsed": false,
    "ExecuteTime": {
     "end_time": "2024-02-10T17:36:20.282454400Z",
     "start_time": "2024-02-10T17:36:20.231933800Z"
    }
   },
   "id": "806fd548548ee768"
  },
  {
   "cell_type": "code",
   "execution_count": 16,
   "outputs": [],
   "source": [
    "from gymnasium import spaces\n",
    "import numpy as np\n",
    "dict=spaces.Tuple((spaces.Box(low=0, high=np.inf, shape=(3,), dtype=np.int32),  # wood,iron,clay\n",
    "                spaces.Box(low=0, high=30, shape=(18 - 1,), dtype=np.int32),\n",
    "                # all_buildings -idle\n",
    "                # Maybe resources production rate?\n",
    "                   ))"
   ],
   "metadata": {
    "collapsed": false,
    "ExecuteTime": {
     "end_time": "2024-02-10T22:56:33.090931300Z",
     "start_time": "2024-02-10T22:56:33.068611400Z"
    }
   },
   "id": "7097143e21607765"
  },
  {
   "cell_type": "code",
   "execution_count": 26,
   "outputs": [],
   "source": [
    "resources = np.array(list(new_village.loot.values()), dtype=np.int32)\n",
    "building_levels = np.array(list(new_village.get_buildings().values()), dtype=np.int32)"
   ],
   "metadata": {
    "collapsed": false,
    "ExecuteTime": {
     "end_time": "2024-02-10T23:08:11.609151300Z",
     "start_time": "2024-02-10T23:08:11.593120500Z"
    }
   },
   "id": "3e70b96c7835c6cf"
  },
  {
   "cell_type": "code",
   "execution_count": 29,
   "outputs": [
    {
     "data": {
      "text/plain": "array([500, 500, 400,   1,   1,   1,   1,   1,   1,   0,   0,   0,   0,\n         0,   0,   0,   0,   0,   0,   0,   0])"
     },
     "execution_count": 29,
     "metadata": {},
     "output_type": "execute_result"
    }
   ],
   "source": [
    "np.concatenate((resources, building_levels))"
   ],
   "metadata": {
    "collapsed": false,
    "ExecuteTime": {
     "end_time": "2024-02-10T23:08:48.943772Z",
     "start_time": "2024-02-10T23:08:48.929548100Z"
    }
   },
   "id": "a5234e9d098e1fc6"
  }
 ],
 "metadata": {
  "kernelspec": {
   "display_name": "Python 3",
   "language": "python",
   "name": "python3"
  },
  "language_info": {
   "codemirror_mode": {
    "name": "ipython",
    "version": 2
   },
   "file_extension": ".py",
   "mimetype": "text/x-python",
   "name": "python",
   "nbconvert_exporter": "python",
   "pygments_lexer": "ipython2",
   "version": "2.7.6"
  }
 },
 "nbformat": 4,
 "nbformat_minor": 5
}
